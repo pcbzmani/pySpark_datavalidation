{
 "cells": [
  {
   "cell_type": "markdown",
   "metadata": {},
   "source": [
    "# pySpark Data Validation"
   ]
  },
  {
   "cell_type": "markdown",
   "metadata": {},
   "source": [
    "## Install pySpark"
   ]
  },
  {
   "cell_type": "code",
   "execution_count": 1,
   "metadata": {},
   "outputs": [
    {
     "name": "stdout",
     "output_type": "stream",
     "text": [
      "Requirement already satisfied: pyspark in c:\\users\\manikandan muthiah\\anaconda3\\lib\\site-packages (3.1.1)\n",
      "Requirement already satisfied: py4j==0.10.9 in c:\\users\\manikandan muthiah\\anaconda3\\lib\\site-packages (from pyspark) (0.10.9)\n"
     ]
    }
   ],
   "source": [
    "!pip install pyspark"
   ]
  },
  {
   "cell_type": "markdown",
   "metadata": {},
   "source": [
    "### Import Spark Session"
   ]
  },
  {
   "cell_type": "code",
   "execution_count": 2,
   "metadata": {},
   "outputs": [],
   "source": [
    "from pyspark.sql import SparkSession"
   ]
  },
  {
   "cell_type": "markdown",
   "metadata": {},
   "source": [
    "#### Create spark object from the sparksession"
   ]
  },
  {
   "cell_type": "code",
   "execution_count": 3,
   "metadata": {},
   "outputs": [],
   "source": [
    "spark = SparkSession.builder.appName(\"pySpark\").getOrCreate()"
   ]
  },
  {
   "cell_type": "markdown",
   "metadata": {},
   "source": [
    "#### Spark object details"
   ]
  },
  {
   "cell_type": "code",
   "execution_count": 4,
   "metadata": {},
   "outputs": [
    {
     "data": {
      "text/html": [
       "\n",
       "            <div>\n",
       "                <p><b>SparkSession - in-memory</b></p>\n",
       "                \n",
       "        <div>\n",
       "            <p><b>SparkContext</b></p>\n",
       "\n",
       "            <p><a href=\"http://LAPTOP-6N0MHR45:4040\">Spark UI</a></p>\n",
       "\n",
       "            <dl>\n",
       "              <dt>Version</dt>\n",
       "                <dd><code>v3.1.1</code></dd>\n",
       "              <dt>Master</dt>\n",
       "                <dd><code>local[*]</code></dd>\n",
       "              <dt>AppName</dt>\n",
       "                <dd><code>pySpark</code></dd>\n",
       "            </dl>\n",
       "        </div>\n",
       "        \n",
       "            </div>\n",
       "        "
      ],
      "text/plain": [
       "<pyspark.sql.session.SparkSession at 0x1f361631b38>"
      ]
     },
     "execution_count": 4,
     "metadata": {},
     "output_type": "execute_result"
    }
   ],
   "source": [
    "spark"
   ]
  },
  {
   "cell_type": "markdown",
   "metadata": {},
   "source": [
    "#### Read the input dataset for Data check"
   ]
  },
  {
   "cell_type": "code",
   "execution_count": 5,
   "metadata": {},
   "outputs": [],
   "source": [
    "visitorsDF = spark.read\\\n",
    ".format('csv')\\\n",
    ".option('header',True)\\\n",
    ".option(\"TreatEmptyValuesAsNulls\", True)\\\n",
    ".option(\"IgnoreLeadingWhiteSpace\", True)\\\n",
    ".option(\"IgnoreTrailingWhiteSpace\", True)\\\n",
    ".load('C:/Users/Manikandan Muthiah/mypython/data/data/VisitorLogsData.csv')"
   ]
  },
  {
   "cell_type": "markdown",
   "metadata": {},
   "source": [
    "#### Import all necessary functions"
   ]
  },
  {
   "cell_type": "code",
   "execution_count": 6,
   "metadata": {},
   "outputs": [],
   "source": [
    "from pyspark.sql.functions import *"
   ]
  },
  {
   "cell_type": "markdown",
   "metadata": {},
   "source": [
    "#### 1.Number of columns in dataframe-Column count"
   ]
  },
  {
   "cell_type": "code",
   "execution_count": 7,
   "metadata": {},
   "outputs": [
    {
     "data": {
      "text/plain": [
       "9"
      ]
     },
     "execution_count": 7,
     "metadata": {},
     "output_type": "execute_result"
    }
   ],
   "source": [
    "columns=len(visitorsDF.columns)\n",
    "columns"
   ]
  },
  {
   "cell_type": "markdown",
   "metadata": {},
   "source": [
    "#### Checking null values in Spark dataframe(No of Empty columns)"
   ]
  },
  {
   "cell_type": "code",
   "execution_count": 8,
   "metadata": {},
   "outputs": [
    {
     "name": "stdout",
     "output_type": "stream",
     "text": [
      "+-----------+-------------+---------+-------+--------+-------+---+-------+-------+\n",
      "|webClientID|VisitDateTime|ProductID| UserID|Activity|Browser| OS|   City|Country|\n",
      "+-----------+-------------+---------+-------+--------+-------+---+-------+-------+\n",
      "|          0|       658915|   527137|5937305|  889446|      0|  0|2296200| 528062|\n",
      "+-----------+-------------+---------+-------+--------+-------+---+-------+-------+\n",
      "\n"
     ]
    }
   ],
   "source": [
    "nullcntdf=visitorsDF.select([count(when( col(c).isNull(),c)).alias(c) for c in visitorsDF.columns])\n",
    "nullcntdf.show()"
   ]
  },
  {
   "cell_type": "markdown",
   "metadata": {},
   "source": [
    "#### 3.Row Count of dataframe"
   ]
  },
  {
   "cell_type": "code",
   "execution_count": 10,
   "metadata": {},
   "outputs": [
    {
     "data": {
      "text/plain": [
       "6588000"
      ]
     },
     "execution_count": 10,
     "metadata": {},
     "output_type": "execute_result"
    }
   ],
   "source": [
    "total_rows=visitorsDF.count()\n",
    "total_rows"
   ]
  },
  {
   "cell_type": "markdown",
   "metadata": {},
   "source": [
    "#### Drop null values rows"
   ]
  },
  {
   "cell_type": "code",
   "execution_count": 11,
   "metadata": {},
   "outputs": [],
   "source": [
    "visitorsDFnonull = visitorsDF.na.drop(\"any\")"
   ]
  },
  {
   "cell_type": "code",
   "execution_count": 12,
   "metadata": {},
   "outputs": [
    {
     "data": {
      "text/plain": [
       "284952"
      ]
     },
     "execution_count": 12,
     "metadata": {},
     "output_type": "execute_result"
    }
   ],
   "source": [
    "nonemptyrows=visitorsDFnonull.count()\n",
    "nonemptyrows"
   ]
  },
  {
   "cell_type": "markdown",
   "metadata": {},
   "source": [
    "#### Completeness"
   ]
  },
  {
   "cell_type": "code",
   "execution_count": 13,
   "metadata": {},
   "outputs": [
    {
     "data": {
      "text/plain": [
       "4.325318761384335"
      ]
     },
     "execution_count": 13,
     "metadata": {},
     "output_type": "execute_result"
    }
   ],
   "source": [
    "completeness=(nonemptyrows/(total_rows)*100)\n",
    "completeness"
   ]
  },
  {
   "cell_type": "markdown",
   "metadata": {},
   "source": [
    "#### Datatype of dataframe"
   ]
  },
  {
   "cell_type": "code",
   "execution_count": 14,
   "metadata": {},
   "outputs": [
    {
     "name": "stdout",
     "output_type": "stream",
     "text": [
      "root\n",
      " |-- webClientID: string (nullable = true)\n",
      " |-- VisitDateTime: string (nullable = true)\n",
      " |-- ProductID: string (nullable = true)\n",
      " |-- UserID: string (nullable = true)\n",
      " |-- Activity: string (nullable = true)\n",
      " |-- Browser: string (nullable = true)\n",
      " |-- OS: string (nullable = true)\n",
      " |-- City: string (nullable = true)\n",
      " |-- Country: string (nullable = true)\n",
      "\n"
     ]
    }
   ],
   "source": [
    "visitorsDF.printSchema()"
   ]
  },
  {
   "cell_type": "code",
   "execution_count": 15,
   "metadata": {},
   "outputs": [],
   "source": [
    "nullcntdf.createOrReplaceTempView('nullcount')\n",
    "columns_list=''\n",
    "for c in visitorsDF.columns:\n",
    "    columns_list=columns_list+c+'+'\n",
    "columns_list=columns_list[:-1]"
   ]
  },
  {
   "cell_type": "code",
   "execution_count": 16,
   "metadata": {},
   "outputs": [],
   "source": [
    "selectstmt=\"select sum({}) as totalnullcnt from nullcount\".format(columns_list)"
   ]
  },
  {
   "cell_type": "code",
   "execution_count": 17,
   "metadata": {},
   "outputs": [],
   "source": [
    "totalnullcnt=spark.sql(selectstmt).collect()\n",
    "totalnullcnt=str(totalnullcnt)\n",
    "totalnullcnt=totalnullcnt.split('=')[1].rsplit(')')[0]\n",
    "totalnullcnt=int(totalnullcnt)"
   ]
  },
  {
   "cell_type": "code",
   "execution_count": 18,
   "metadata": {},
   "outputs": [
    {
     "data": {
      "text/plain": [
       "18.277448896984417"
      ]
     },
     "execution_count": 18,
     "metadata": {},
     "output_type": "execute_result"
    }
   ],
   "source": [
    "(totalnullcnt/(total_rows*columns))*100"
   ]
  },
  {
   "cell_type": "markdown",
   "metadata": {},
   "source": [
    "#### Statistics of dataframe"
   ]
  },
  {
   "cell_type": "code",
   "execution_count": 19,
   "metadata": {},
   "outputs": [
    {
     "name": "stdout",
     "output_type": "stream",
     "text": [
      "+-------+--------------+--------------------+---------+-------+--------+-------------+-------+-----------+---------------+\n",
      "|summary|   webClientID|       VisitDateTime|ProductID| UserID|Activity|      Browser|     OS|       City|        Country|\n",
      "+-------+--------------+--------------------+---------+-------+--------+-------------+-------+-----------+---------------+\n",
      "|  count|       6588000|             5929085|  6060863| 650695| 5698554|      6588000|6588000|    4291800|        6059938|\n",
      "|   mean|          null|1.526554171346754...|     null|   null|    null|         null|   null|       null|           null|\n",
      "| stddev|          null|5.338116776808671E14|     null|   null|    null|         null|   null|       null|           null|\n",
      "|    min|     WI1000000| 1525651211454000000| Pr100000|U100002|   CLICK|AdsBot-Google|Android|'Ain Benian|    Afghanistan|\n",
      "|    25%|          null|1.526058871432999...|     null|   null|    null|         null|   null|       null|           null|\n",
      "|    50%|          null|1.526560328145999...|     null|   null|    null|         null|   null|       null|           null|\n",
      "|    75%|          null|1.527022152110000...|     null|   null|    null|         null|   null|       null|           null|\n",
      "|    max|WI100000999999|2018-05-27 23:59:...| pr112449|U136965|pageload|      net/bot|windows|      ‘Aiea|Åland Mariehamn|\n",
      "+-------+--------------+--------------------+---------+-------+--------+-------------+-------+-----------+---------------+\n",
      "\n"
     ]
    }
   ],
   "source": [
    "visitorsDF.summary().show()"
   ]
  },
  {
   "cell_type": "markdown",
   "metadata": {},
   "source": [
    "#### Count of distinct values in Dataframe"
   ]
  },
  {
   "cell_type": "code",
   "execution_count": 20,
   "metadata": {},
   "outputs": [
    {
     "name": "stdout",
     "output_type": "stream",
     "text": [
      "+-----------+-------------+---------+------+--------+-------+---+-----+-------+\n",
      "|webClientID|VisitDateTime|ProductID|UserID|Activity|Browser| OS| City|Country|\n",
      "+-----------+-------------+---------+------+--------+-------+---+-----+-------+\n",
      "|    1091455|      5482669|    17459| 34050|       4|     82| 30|26259|  18912|\n",
      "+-----------+-------------+---------+------+--------+-------+---+-----+-------+\n",
      "\n"
     ]
    }
   ],
   "source": [
    "visitorsDF.select([(countDistinct(col(c))).alias(c) for c in visitorsDF.columns]).show()"
   ]
  },
  {
   "cell_type": "markdown",
   "metadata": {},
   "source": [
    "#### Maximum length of each column in Dataframe"
   ]
  },
  {
   "cell_type": "code",
   "execution_count": 21,
   "metadata": {},
   "outputs": [
    {
     "name": "stdout",
     "output_type": "stream",
     "text": [
      "+-----------+-------------+---------+------+--------+-------+---+----+-------+\n",
      "|webClientID|VisitDateTime|ProductID|UserID|Activity|Browser| OS|City|Country|\n",
      "+-----------+-------------+---------+------+--------+-------+---+----+-------+\n",
      "|         15|           23|        8|     7|       8|     26| 13|  63|     70|\n",
      "+-----------+-------------+---------+------+--------+-------+---+----+-------+\n",
      "\n"
     ]
    }
   ],
   "source": [
    "visitorsDF.select([max((length(col(c)))).alias(c) for c in visitorsDF.columns]).show()"
   ]
  },
  {
   "cell_type": "markdown",
   "metadata": {},
   "source": [
    "#### Minimum length of each column in Dataframe"
   ]
  },
  {
   "cell_type": "code",
   "execution_count": 22,
   "metadata": {},
   "outputs": [
    {
     "name": "stdout",
     "output_type": "stream",
     "text": [
      "+-----------+-------------+---------+------+--------+-------+---+----+-------+\n",
      "|webClientID|VisitDateTime|ProductID|UserID|Activity|Browser| OS|City|Country|\n",
      "+-----------+-------------+---------+------+--------+-------+---+----+-------+\n",
      "|          9|           19|        8|     7|       5|      2|  3|   2|      4|\n",
      "+-----------+-------------+---------+------+--------+-------+---+----+-------+\n",
      "\n"
     ]
    }
   ],
   "source": [
    "visitorsDF.select([min((length(col(c)))).alias(c) for c in visitorsDF.columns]).show()"
   ]
  },
  {
   "cell_type": "markdown",
   "metadata": {},
   "source": [
    "#### Size of dataframe"
   ]
  },
  {
   "cell_type": "code",
   "execution_count": 23,
   "metadata": {},
   "outputs": [
    {
     "name": "stdout",
     "output_type": "stream",
     "text": [
      "(6588000, 9)\n"
     ]
    }
   ],
   "source": [
    "size = (total_rows, columns)\n",
    "print(size)"
   ]
  },
  {
   "cell_type": "markdown",
   "metadata": {},
   "source": [
    "#### Distinct rows count"
   ]
  },
  {
   "cell_type": "code",
   "execution_count": 24,
   "metadata": {},
   "outputs": [
    {
     "data": {
      "text/plain": [
       "6026927"
      ]
     },
     "execution_count": 24,
     "metadata": {},
     "output_type": "execute_result"
    }
   ],
   "source": [
    "visitorsDF.distinct().count()"
   ]
  },
  {
   "cell_type": "markdown",
   "metadata": {},
   "source": [
    "#### Stop Spark"
   ]
  },
  {
   "cell_type": "code",
   "execution_count": 25,
   "metadata": {},
   "outputs": [],
   "source": [
    "spark.stop()"
   ]
  }
 ],
 "metadata": {
  "kernelspec": {
   "display_name": "Python 3",
   "language": "python",
   "name": "python3"
  },
  "language_info": {
   "codemirror_mode": {
    "name": "ipython",
    "version": 3
   },
   "file_extension": ".py",
   "mimetype": "text/x-python",
   "name": "python",
   "nbconvert_exporter": "python",
   "pygments_lexer": "ipython3",
   "version": "3.7.3"
  }
 },
 "nbformat": 4,
 "nbformat_minor": 2
}
